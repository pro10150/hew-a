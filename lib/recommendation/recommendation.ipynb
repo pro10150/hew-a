{
 "metadata": {
  "language_info": {
   "codemirror_mode": {
    "name": "ipython",
    "version": 3
   },
   "file_extension": ".py",
   "mimetype": "text/x-python",
   "name": "python",
   "nbconvert_exporter": "python",
   "pygments_lexer": "ipython3",
   "version": "3.9.7-final"
  },
  "orig_nbformat": 2,
  "kernelspec": {
   "name": "python3",
   "display_name": "Python 3.9.7 64-bit",
   "metadata": {
    "interpreter": {
     "hash": "aee8b7b246df8f9039afb4144a1f6fd8d2ca17a180786b69acc140d282b71a49"
    }
   }
  }
 },
 "nbformat": 4,
 "nbformat_minor": 2,
 "cells": [
  {
   "cell_type": "code",
   "execution_count": 6,
   "metadata": {},
   "outputs": [],
   "source": [
    "import pandas as pd\n",
    "import numpy as np\n",
    "import sqlite3\n",
    "con = sqlite3.connect(\"/Users/skooter/Library/Developer/CoreSimulator/Devices/C71758F6-0B93-44CE-A57B-EDC04C058146/data/Containers/Data/Application/BE701AC6-FC73-4AC0-8573-205C34FE4F0A/Documents/Hewa.db\")\n",
    "df = pd.read_sql_query(\"SELECT * FROM viewTABLE\", con)"
   ]
  },
  {
   "cell_type": "code",
   "execution_count": 7,
   "metadata": {},
   "outputs": [
    {
     "output_type": "stream",
     "name": "stdout",
     "text": [
      "<sqlite3.Connection object at 0x11530f300>\n"
     ]
    }
   ],
   "source": [
    "print(con)"
   ]
  },
  {
   "cell_type": "code",
   "execution_count": 3,
   "metadata": {
    "tags": []
   },
   "outputs": [
    {
     "output_type": "execute_result",
     "data": {
      "text/plain": [
       "      id                           uid  recipeId  isView\n",
       "0      1  x8cKCoJwnqSJZgklwPSBXLtjEgQ2         1       1\n",
       "1      2  x8cKCoJwnqSJZgklwPSBXLtjEgQ2         2       1\n",
       "2      3  x8cKCoJwnqSJZgklwPSBXLtjEgQ2         3       1\n",
       "3      4  x8cKCoJwnqSJZgklwPSBXLtjEgQ2         4       1\n",
       "4      5  x8cKCoJwnqSJZgklwPSBXLtjEgQ2         5       1\n",
       "..   ...                           ...       ...     ...\n",
       "245  246  VaipAkcQYfexWPTX16itUC57t1D2        46       0\n",
       "246  247  VaipAkcQYfexWPTX16itUC57t1D2        47       0\n",
       "247  248  VaipAkcQYfexWPTX16itUC57t1D2        48       1\n",
       "248  249  VaipAkcQYfexWPTX16itUC57t1D2        49       0\n",
       "249  250  VaipAkcQYfexWPTX16itUC57t1D2        50       1\n",
       "\n",
       "[250 rows x 4 columns]"
      ],
      "text/html": "<div>\n<style scoped>\n    .dataframe tbody tr th:only-of-type {\n        vertical-align: middle;\n    }\n\n    .dataframe tbody tr th {\n        vertical-align: top;\n    }\n\n    .dataframe thead th {\n        text-align: right;\n    }\n</style>\n<table border=\"1\" class=\"dataframe\">\n  <thead>\n    <tr style=\"text-align: right;\">\n      <th></th>\n      <th>id</th>\n      <th>uid</th>\n      <th>recipeId</th>\n      <th>isView</th>\n    </tr>\n  </thead>\n  <tbody>\n    <tr>\n      <th>0</th>\n      <td>1</td>\n      <td>x8cKCoJwnqSJZgklwPSBXLtjEgQ2</td>\n      <td>1</td>\n      <td>1</td>\n    </tr>\n    <tr>\n      <th>1</th>\n      <td>2</td>\n      <td>x8cKCoJwnqSJZgklwPSBXLtjEgQ2</td>\n      <td>2</td>\n      <td>1</td>\n    </tr>\n    <tr>\n      <th>2</th>\n      <td>3</td>\n      <td>x8cKCoJwnqSJZgklwPSBXLtjEgQ2</td>\n      <td>3</td>\n      <td>1</td>\n    </tr>\n    <tr>\n      <th>3</th>\n      <td>4</td>\n      <td>x8cKCoJwnqSJZgklwPSBXLtjEgQ2</td>\n      <td>4</td>\n      <td>1</td>\n    </tr>\n    <tr>\n      <th>4</th>\n      <td>5</td>\n      <td>x8cKCoJwnqSJZgklwPSBXLtjEgQ2</td>\n      <td>5</td>\n      <td>1</td>\n    </tr>\n    <tr>\n      <th>...</th>\n      <td>...</td>\n      <td>...</td>\n      <td>...</td>\n      <td>...</td>\n    </tr>\n    <tr>\n      <th>245</th>\n      <td>246</td>\n      <td>VaipAkcQYfexWPTX16itUC57t1D2</td>\n      <td>46</td>\n      <td>0</td>\n    </tr>\n    <tr>\n      <th>246</th>\n      <td>247</td>\n      <td>VaipAkcQYfexWPTX16itUC57t1D2</td>\n      <td>47</td>\n      <td>0</td>\n    </tr>\n    <tr>\n      <th>247</th>\n      <td>248</td>\n      <td>VaipAkcQYfexWPTX16itUC57t1D2</td>\n      <td>48</td>\n      <td>1</td>\n    </tr>\n    <tr>\n      <th>248</th>\n      <td>249</td>\n      <td>VaipAkcQYfexWPTX16itUC57t1D2</td>\n      <td>49</td>\n      <td>0</td>\n    </tr>\n    <tr>\n      <th>249</th>\n      <td>250</td>\n      <td>VaipAkcQYfexWPTX16itUC57t1D2</td>\n      <td>50</td>\n      <td>1</td>\n    </tr>\n  </tbody>\n</table>\n<p>250 rows × 4 columns</p>\n</div>"
     },
     "metadata": {},
     "execution_count": 3
    }
   ],
   "source": [
    "df"
   ]
  },
  {
   "cell_type": "code",
   "execution_count": 3,
   "metadata": {},
   "outputs": [
    {
     "output_type": "execute_result",
     "data": {
      "text/plain": [
       "                              uid  recipeId  isView\n",
       "0    x8cKCoJwnqSJZgklwPSBXLtjEgQ2         1       1\n",
       "1    x8cKCoJwnqSJZgklwPSBXLtjEgQ2         2       1\n",
       "2    x8cKCoJwnqSJZgklwPSBXLtjEgQ2         3       1\n",
       "3    x8cKCoJwnqSJZgklwPSBXLtjEgQ2         4       1\n",
       "4    x8cKCoJwnqSJZgklwPSBXLtjEgQ2         5       1\n",
       "..                            ...       ...     ...\n",
       "245  VaipAkcQYfexWPTX16itUC57t1D2        46       0\n",
       "246  VaipAkcQYfexWPTX16itUC57t1D2        47       0\n",
       "247  VaipAkcQYfexWPTX16itUC57t1D2        48       1\n",
       "248  VaipAkcQYfexWPTX16itUC57t1D2        49       0\n",
       "249  VaipAkcQYfexWPTX16itUC57t1D2        50       1\n",
       "\n",
       "[250 rows x 3 columns]"
      ],
      "text/html": "<div>\n<style scoped>\n    .dataframe tbody tr th:only-of-type {\n        vertical-align: middle;\n    }\n\n    .dataframe tbody tr th {\n        vertical-align: top;\n    }\n\n    .dataframe thead th {\n        text-align: right;\n    }\n</style>\n<table border=\"1\" class=\"dataframe\">\n  <thead>\n    <tr style=\"text-align: right;\">\n      <th></th>\n      <th>uid</th>\n      <th>recipeId</th>\n      <th>isView</th>\n    </tr>\n  </thead>\n  <tbody>\n    <tr>\n      <th>0</th>\n      <td>x8cKCoJwnqSJZgklwPSBXLtjEgQ2</td>\n      <td>1</td>\n      <td>1</td>\n    </tr>\n    <tr>\n      <th>1</th>\n      <td>x8cKCoJwnqSJZgklwPSBXLtjEgQ2</td>\n      <td>2</td>\n      <td>1</td>\n    </tr>\n    <tr>\n      <th>2</th>\n      <td>x8cKCoJwnqSJZgklwPSBXLtjEgQ2</td>\n      <td>3</td>\n      <td>1</td>\n    </tr>\n    <tr>\n      <th>3</th>\n      <td>x8cKCoJwnqSJZgklwPSBXLtjEgQ2</td>\n      <td>4</td>\n      <td>1</td>\n    </tr>\n    <tr>\n      <th>4</th>\n      <td>x8cKCoJwnqSJZgklwPSBXLtjEgQ2</td>\n      <td>5</td>\n      <td>1</td>\n    </tr>\n    <tr>\n      <th>...</th>\n      <td>...</td>\n      <td>...</td>\n      <td>...</td>\n    </tr>\n    <tr>\n      <th>245</th>\n      <td>VaipAkcQYfexWPTX16itUC57t1D2</td>\n      <td>46</td>\n      <td>0</td>\n    </tr>\n    <tr>\n      <th>246</th>\n      <td>VaipAkcQYfexWPTX16itUC57t1D2</td>\n      <td>47</td>\n      <td>0</td>\n    </tr>\n    <tr>\n      <th>247</th>\n      <td>VaipAkcQYfexWPTX16itUC57t1D2</td>\n      <td>48</td>\n      <td>1</td>\n    </tr>\n    <tr>\n      <th>248</th>\n      <td>VaipAkcQYfexWPTX16itUC57t1D2</td>\n      <td>49</td>\n      <td>0</td>\n    </tr>\n    <tr>\n      <th>249</th>\n      <td>VaipAkcQYfexWPTX16itUC57t1D2</td>\n      <td>50</td>\n      <td>1</td>\n    </tr>\n  </tbody>\n</table>\n<p>250 rows × 3 columns</p>\n</div>"
     },
     "metadata": {},
     "execution_count": 3
    }
   ],
   "source": [
    "dataPrep = df[['uid', 'recipeId' , 'isView']]\n",
    "dataPrep"
   ]
  },
  {
   "cell_type": "code",
   "execution_count": 4,
   "metadata": {},
   "outputs": [],
   "source": [
    "from scipy.sparse import coo_matrix, csr_matrix\n",
    "from sklearn.metrics.pairwise import cosine_similarity\n",
    "from sklearn.preprocessing import LabelEncoder"
   ]
  },
  {
   "cell_type": "code",
   "execution_count": 5,
   "metadata": {},
   "outputs": [],
   "source": [
    "def GetItemItemSim(uid, recipeId):\n",
    "    recipeCustomerMatrix = csr_matrix(([1]*len(uid), (recipeId, uid)))\n",
    "    similarity = cosine_similarity(recipeCustomerMatrix)\n",
    "    return similarity, recipeCustomerMatrix"
   ]
  },
  {
   "cell_type": "code",
   "execution_count": 6,
   "metadata": {},
   "outputs": [],
   "source": [
    "def get_recommendations_from_similarity(similarity_matrix, SalesItemCustomerMatrix, top_n=10):\n",
    "    recipeUserItemMatrix = csr_matrix(SalesItemCustomerMatrix.T)\n",
    "    recipeUserItemScores = recipeUserItemMatrix.dot(similarity_matrix) # sum of similarities to all purchased products\n",
    "    RecForCust = []\n",
    "    for uid in range(recipeUserItemScores.shape[0]):\n",
    "        scores = recipeUserItemScores[uid, :]\n",
    "        recipeIds = recipeUserItemMatrix.indices[recipeUserItemMatrix.indptr[uid]:\n",
    "        recipeUserItemMatrix.indptr[uid+1]]\n",
    "        scores[recipeIds] = -1 # do not recommend already purchased SalesItems\n",
    "        top_products_ids = np.argsort(scores)[-top_n:][::-1]\n",
    "        recommendations = pd.DataFrame(\n",
    "        top_products_ids.reshape(1, -1),\n",
    "        index=[uid],\n",
    "        columns=['Top%s' % (i+1) for i in range(top_n)])\n",
    "        RecForCust.append(recommendations)\n",
    "    return pd.concat(RecForCust)"
   ]
  },
  {
   "cell_type": "code",
   "execution_count": 7,
   "metadata": {},
   "outputs": [],
   "source": [
    "def get_recommendations(view_data):\n",
    "    user_label_encoder = LabelEncoder()\n",
    "    uids = user_label_encoder.fit_transform(view_data.uid)\n",
    "    recipe_label_encoder = LabelEncoder()\n",
    "    recipeIds = recipe_label_encoder.fit_transform(view_data.recipeId)\n",
    "    # compute recommendations\n",
    "    similarity_matrix, recipeUserMatrix = GetItemItemSim(uids, recipeIds)\n",
    "    recommendations = get_recommendations_from_similarity(similarity_matrix, recipeUserMatrix)\n",
    "    recommendations.index = user_label_encoder.inverse_transform(recommendations.index)\n",
    "    for i in range(recommendations.shape[1]):\n",
    "        recommendations.iloc[:, i] = recipe_label_encoder.inverse_transform(recommendations.iloc[:, i])\n",
    "        return recommendations"
   ]
  },
  {
   "cell_type": "code",
   "execution_count": 8,
   "metadata": {},
   "outputs": [
    {
     "output_type": "execute_result",
     "data": {
      "text/plain": [
       "                              Top1  Top2  Top3  Top4  Top5  Top6  Top7  Top8  \\\n",
       "F4QoZNVQ5kUgZKfdY7etXSI8AFi2    50    12    22    21    20    19    18    17   \n",
       "VaipAkcQYfexWPTX16itUC57t1D2    50    12    22    21    20    19    18    17   \n",
       "bpSTXKotc2Qo87o6JbImdJl4Wk43    50    12    22    21    20    19    18    17   \n",
       "hb8DLE7if5Se2LNrSLcF2OR1uvy1    50    12    22    21    20    19    18    17   \n",
       "x8cKCoJwnqSJZgklwPSBXLtjEgQ2    50    12    22    21    20    19    18    17   \n",
       "\n",
       "                              Top9  Top10  \n",
       "F4QoZNVQ5kUgZKfdY7etXSI8AFi2    16     15  \n",
       "VaipAkcQYfexWPTX16itUC57t1D2    16     15  \n",
       "bpSTXKotc2Qo87o6JbImdJl4Wk43    16     15  \n",
       "hb8DLE7if5Se2LNrSLcF2OR1uvy1    16     15  \n",
       "x8cKCoJwnqSJZgklwPSBXLtjEgQ2    16     15  "
      ],
      "text/html": "<div>\n<style scoped>\n    .dataframe tbody tr th:only-of-type {\n        vertical-align: middle;\n    }\n\n    .dataframe tbody tr th {\n        vertical-align: top;\n    }\n\n    .dataframe thead th {\n        text-align: right;\n    }\n</style>\n<table border=\"1\" class=\"dataframe\">\n  <thead>\n    <tr style=\"text-align: right;\">\n      <th></th>\n      <th>Top1</th>\n      <th>Top2</th>\n      <th>Top3</th>\n      <th>Top4</th>\n      <th>Top5</th>\n      <th>Top6</th>\n      <th>Top7</th>\n      <th>Top8</th>\n      <th>Top9</th>\n      <th>Top10</th>\n    </tr>\n  </thead>\n  <tbody>\n    <tr>\n      <th>F4QoZNVQ5kUgZKfdY7etXSI8AFi2</th>\n      <td>50</td>\n      <td>12</td>\n      <td>22</td>\n      <td>21</td>\n      <td>20</td>\n      <td>19</td>\n      <td>18</td>\n      <td>17</td>\n      <td>16</td>\n      <td>15</td>\n    </tr>\n    <tr>\n      <th>VaipAkcQYfexWPTX16itUC57t1D2</th>\n      <td>50</td>\n      <td>12</td>\n      <td>22</td>\n      <td>21</td>\n      <td>20</td>\n      <td>19</td>\n      <td>18</td>\n      <td>17</td>\n      <td>16</td>\n      <td>15</td>\n    </tr>\n    <tr>\n      <th>bpSTXKotc2Qo87o6JbImdJl4Wk43</th>\n      <td>50</td>\n      <td>12</td>\n      <td>22</td>\n      <td>21</td>\n      <td>20</td>\n      <td>19</td>\n      <td>18</td>\n      <td>17</td>\n      <td>16</td>\n      <td>15</td>\n    </tr>\n    <tr>\n      <th>hb8DLE7if5Se2LNrSLcF2OR1uvy1</th>\n      <td>50</td>\n      <td>12</td>\n      <td>22</td>\n      <td>21</td>\n      <td>20</td>\n      <td>19</td>\n      <td>18</td>\n      <td>17</td>\n      <td>16</td>\n      <td>15</td>\n    </tr>\n    <tr>\n      <th>x8cKCoJwnqSJZgklwPSBXLtjEgQ2</th>\n      <td>50</td>\n      <td>12</td>\n      <td>22</td>\n      <td>21</td>\n      <td>20</td>\n      <td>19</td>\n      <td>18</td>\n      <td>17</td>\n      <td>16</td>\n      <td>15</td>\n    </tr>\n  </tbody>\n</table>\n</div>"
     },
     "metadata": {},
     "execution_count": 8
    }
   ],
   "source": [
    "recommendations = get_recommendations(dataPrep)\n",
    "recommendations"
   ]
  },
  {
   "cell_type": "code",
   "execution_count": 9,
   "metadata": {},
   "outputs": [],
   "source": [
    "def getRecommendations(databaseLocation, input):\n",
    "    con = sqlite3.connect(databaseLocation)\n",
    "    df = pd.read_sql_query(\"SELECT * FROM viewTABLE\", con)\n",
    "    dataPrep = df[['uid', 'recipeId' , 'isView']]\n",
    "    return get_recommendations(dataPrep).loc[[input]].values.tolist()[0]"
   ]
  },
  {
   "cell_type": "code",
   "execution_count": null,
   "metadata": {},
   "outputs": [],
   "source": []
  }
 ]
}